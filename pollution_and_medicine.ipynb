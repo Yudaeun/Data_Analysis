{
  "nbformat": 4,
  "nbformat_minor": 0,
  "metadata": {
    "colab": {
      "name": "pollution and medicine.ipynb",
      "provenance": []
    },
    "kernelspec": {
      "name": "python3",
      "display_name": "Python 3"
    },
    "language_info": {
      "name": "python"
    }
  },
  "cells": [
    {
      "cell_type": "markdown",
      "source": [
        "### 투입된 약물의 양과 오염양 사이의 관계를 선형회귀로 나타내기\n",
        "21812167 유다은 10: 선형회귀 과제 (1)\n"
      ],
      "metadata": {
        "id": "z1uGU8Bah-wG"
      }
    },
    {
      "cell_type": "code",
      "source": [
        "import matplotlib.pyplot as plt\n",
        "import pandas as pd\n",
        "\n",
        "data_home='https://github.com/dknife/ML/raw/main/data/'\n",
        "po_data=pd.read_csv(data_home+'pollution.csv')\n",
        "print(po_data)"
      ],
      "metadata": {
        "colab": {
          "base_uri": "https://localhost:8080/"
        },
        "id": "k1Ke7OM8SUzS",
        "outputId": "45580071-9f7b-40a6-be70-7dd27a9322b5"
      },
      "execution_count": 1,
      "outputs": [
        {
          "output_type": "stream",
          "name": "stdout",
          "text": [
            "       input  pollution\n",
            "0   0.240557   4.858750\n",
            "1   0.159731   4.471091\n",
            "2   0.108295   4.341897\n",
            "3   0.233770   3.586844\n",
            "4   0.283235   3.678243\n",
            "..       ...        ...\n",
            "95  0.070824   4.851617\n",
            "96  0.055300   4.912696\n",
            "97  0.138229   5.516441\n",
            "98  0.007205   5.661260\n",
            "99  0.290294   3.169049\n",
            "\n",
            "[100 rows x 2 columns]\n"
          ]
        }
      ]
    },
    {
      "cell_type": "code",
      "source": [
        "### TD: print from data[10] to data[15]\n",
        "\n",
        "print(po_data[10:16])"
      ],
      "metadata": {
        "colab": {
          "base_uri": "https://localhost:8080/"
        },
        "id": "Mvm71pa6hV7d",
        "outputId": "f004a289-81da-4bc0-963e-82e7edca7400"
      },
      "execution_count": 2,
      "outputs": [
        {
          "output_type": "stream",
          "name": "stdout",
          "text": [
            "       input  pollution\n",
            "10  0.206014   4.334919\n",
            "11  0.150001   5.378262\n",
            "12  0.392948   3.191317\n",
            "13  0.420919   2.021181\n",
            "14  0.330716   4.245457\n",
            "15  0.481756   3.735627\n"
          ]
        }
      ]
    },
    {
      "cell_type": "code",
      "source": [
        "input_min=po_data['input'].min()\n",
        "input_max=po_data['input'].max()\n",
        "print(input_min,input_max)\n",
        "\n",
        "po_min=po_data['pollution'].min()\n",
        "po_max=po_data['pollution'].max()"
      ],
      "metadata": {
        "colab": {
          "base_uri": "https://localhost:8080/"
        },
        "id": "9G2r3C8rhZfh",
        "outputId": "ad8ef714-02aa-44c4-8a7a-6e8be4e8962d"
      },
      "execution_count": 3,
      "outputs": [
        {
          "output_type": "stream",
          "name": "stdout",
          "text": [
            "0.0006637621949165 0.4849026075901378\n"
          ]
        }
      ]
    },
    {
      "cell_type": "code",
      "source": [
        "def hypothesis_line(x,w,b):\n",
        "  return w*x+b"
      ],
      "metadata": {
        "id": "8mXg3nUth9EL"
      },
      "execution_count": 4,
      "outputs": []
    },
    {
      "cell_type": "code",
      "source": [
        "w=-(po_max-po_min)/(input_max-input_min)\n",
        "b=po_max\n",
        "po_data.plot(kind='scatter',x='input',y='pollution')\n",
        "\n",
        "plt.plot([input_min,input_max],[hypothesis_line(input_min,w,b),\n",
        "                                hypothesis_line(input_max,w,b)],'bo-')\n",
        "\n",
        "plt.show()"
      ],
      "metadata": {
        "colab": {
          "base_uri": "https://localhost:8080/",
          "height": 279
        },
        "id": "TqYIejnh0H21",
        "outputId": "f9ffb813-0419-4158-9f8a-ac29f9f4b1c1"
      },
      "execution_count": 5,
      "outputs": [
        {
          "output_type": "display_data",
          "data": {
            "text/plain": [
              "<Figure size 432x288 with 1 Axes>"
            ],
            "image/png": "[encoded data removed]"
          },
          "metadata": {
            "needs_background": "light"
          }
        }
      ]
    },
    {
      "cell_type": "code",
      "source": [
        "from sklearn.linear_model import LinearRegression\n",
        "from sklearn.model_selection import train_test_split\n",
        "import numpy as np\n",
        "\n",
        "X=po_data['input'].to_numpy()\n",
        "y=po_data['pollution'].to_numpy()\n",
        "print(\"X.shape={},y.shape={}\".format(X.shape,y.shape))"
      ],
      "metadata": {
        "colab": {
          "base_uri": "https://localhost:8080/"
        },
        "id": "Vytuf-bi_mYz",
        "outputId": "edbc81d4-ebbd-43f1-fe7b-5cafe25106f6"
      },
      "execution_count": 6,
      "outputs": [
        {
          "output_type": "stream",
          "name": "stdout",
          "text": [
            "X.shape=(100,),y.shape=(100,)\n"
          ]
        }
      ]
    },
    {
      "cell_type": "code",
      "source": [
        "X=X.reshape(100,1)\n",
        "y=y.reshape(100,1)"
      ],
      "metadata": {
        "id": "n_w3CyEZAfgE"
      },
      "execution_count": 7,
      "outputs": []
    },
    {
      "cell_type": "code",
      "source": [
        "X_train,X_test,y_train,y_test=train_test_split(X,y,test_size=0.2)"
      ],
      "metadata": {
        "id": "5OI7yCa7CQ6g"
      },
      "execution_count": 8,
      "outputs": []
    },
    {
      "cell_type": "code",
      "source": [
        "linear_reg=LinearRegression()\n",
        "linear_reg.fit(X_train,y_train)"
      ],
      "metadata": {
        "colab": {
          "base_uri": "https://localhost:8080/"
        },
        "id": "31WOU01kCYiq",
        "outputId": "7e7ed703-a50a-4bfd-80b5-2daf64149a57"
      },
      "execution_count": 9,
      "outputs": [
        {
          "output_type": "execute_result",
          "data": {
            "text/plain": [
              "LinearRegression()"
            ]
          },
          "metadata": {},
          "execution_count": 9
        }
      ]
    },
    {
      "cell_type": "code",
      "source": [
        "lr_w=linear_reg.coef_.item() #기울기\n",
        "lr_b=linear_reg.intercept_.item() #절편"
      ],
      "metadata": {
        "id": "Feduk6MSCevf"
      },
      "execution_count": 11,
      "outputs": []
    },
    {
      "cell_type": "code",
      "source": [
        "po_data.plot(kind='scatter',x='input',y='pollution')\n",
        "plt.plot([input_min,input_max],[hypothesis_line(input_min,w,b),\n",
        "                                hypothesis_line(input_max,w,b)],'bo-')\n",
        "plt.plot(X_train,lr_w*X_train+lr_b,'r-')"
      ],
      "metadata": {
        "colab": {
          "base_uri": "https://localhost:8080/",
          "height": 298
        },
        "id": "9GNamYClClMa",
        "outputId": "4a66da74-ac70-4b55-a40b-9329e865269b"
      },
      "execution_count": 32,
      "outputs": [
        {
          "output_type": "execute_result",
          "data": {
            "text/plain": [
              "[<matplotlib.lines.Line2D at 0x7f39d063c690>]"
            ]
          },
          "metadata": {},
          "execution_count": 32
        },
        {
          "output_type": "display_data",
          "data": {
            "text/plain": [
              "<Figure size 432x288 with 1 Axes>"
            ],
            "image/png": "[encoded data removed]"
          },
          "metadata": {
            "needs_background": "light"
          }
        }
      ]
    },
    {
      "cell_type": "code",
      "source": [
        "Train_score=linear_reg.score(X_train,y_train)\n",
        "Test_score=linear_reg.score(X_test,y_test)\n",
        "print(\"Train=\",Train_score)\n",
        "print(\"Test=\",Test_score)"
      ],
      "metadata": {
        "colab": {
          "base_uri": "https://localhost:8080/"
        },
        "id": "KAwP8uBuIgm7",
        "outputId": "d0226b77-7901-4eb8-f610-aa4999358a22"
      },
      "execution_count": 20,
      "outputs": [
        {
          "output_type": "stream",
          "name": "stdout",
          "text": [
            "Train= 0.5891753953657519\n",
            "Test= 0.3726714175063077\n"
          ]
        }
      ]
    },
    {
      "cell_type": "markdown",
      "source": [
        "train 시킨 score의 값이 test 시킨 score 값보다 약 1.6배보다 높게 나왔다.\n",
        "성능이 좀 떨어진다는 것을 알 수 있다. 그리고 투입된 약물의 양이 많을수록 오염양이 적다는 것을 알 수 있다. 하지만 test 값보다 train 값에서 투입된 약물의 양이 많을 때 오염양이 더 높게 나타나는 것을 확인할 수 있다.\n"
      ],
      "metadata": {
        "id": "793IPumsJpAG"
      }
    }
  ]
}